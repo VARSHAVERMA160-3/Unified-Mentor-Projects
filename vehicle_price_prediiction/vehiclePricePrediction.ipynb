{
 "cells": [
  {
   "cell_type": "markdown",
   "id": "66d22ddb-8edd-46af-9d19-278beb37c707",
   "metadata": {},
   "source": [
    "# Import Libraries"
   ]
  },
  {
   "cell_type": "code",
   "execution_count": 82,
   "id": "aafe8a13-5112-406e-b998-5da7d340a55d",
   "metadata": {},
   "outputs": [],
   "source": [
    "import pandas as pd\n",
    "import numpy as np\n",
    "import matplotlib.pyplot as plt\n",
    "import seaborn as sns\n",
    "from sklearn.model_selection import train_test_split\n",
    "from sklearn.preprocessing import StandardScaler, OneHotEncoder\n",
    "from sklearn.compose import ColumnTransformer\n",
    "from sklearn.pipeline import Pipeline\n",
    "from sklearn.ensemble import RandomForestRegressor\n",
    "from sklearn.metrics import mean_squared_error, r2_score\n"
   ]
  },
  {
   "cell_type": "markdown",
   "id": "e1564c2c-1b3b-40e8-add6-6915082f6570",
   "metadata": {},
   "source": [
    "# Load The Dataset"
   ]
  },
  {
   "cell_type": "code",
   "execution_count": 83,
   "id": "067696d8-f6d3-409f-b5fd-ff150a96b631",
   "metadata": {},
   "outputs": [
    {
     "name": "stdout",
     "output_type": "stream",
     "text": [
      "                              name  \\\n",
      "0     2024 Jeep Wagoneer Series II   \n",
      "1  2024 Jeep Grand Cherokee Laredo   \n",
      "2         2024 GMC Yukon XL Denali   \n",
      "3       2023 Dodge Durango Pursuit   \n",
      "4            2024 RAM 3500 Laramie   \n",
      "\n",
      "                                         description   make           model  \\\n",
      "0  \\n      \\n        Heated Leather Seats, Nav Sy...   Jeep        Wagoneer   \n",
      "1  Al West is committed to offering every custome...   Jeep  Grand Cherokee   \n",
      "2                                                NaN    GMC        Yukon XL   \n",
      "3  White Knuckle Clearcoat 2023 Dodge Durango Pur...  Dodge         Durango   \n",
      "4  \\n      \\n        2024 Ram 3500 Laramie Billet...    RAM            3500   \n",
      "\n",
      "   year    price                                             engine  \\\n",
      "0  2024  74600.0                            24V GDI DOHC Twin Turbo   \n",
      "1  2024  50170.0                                                OHV   \n",
      "2  2024  96410.0  6.2L V-8 gasoline direct injection, variable v...   \n",
      "3  2023  46835.0                                       16V MPFI OHV   \n",
      "4  2024  81663.0                           24V DDI OHV Turbo Diesel   \n",
      "\n",
      "   cylinders      fuel  mileage       transmission       trim          body  \\\n",
      "0        6.0  Gasoline     10.0  8-Speed Automatic  Series II           SUV   \n",
      "1        6.0  Gasoline      1.0  8-Speed Automatic     Laredo           SUV   \n",
      "2        8.0  Gasoline      0.0          Automatic     Denali           SUV   \n",
      "3        8.0  Gasoline     32.0  8-Speed Automatic    Pursuit           SUV   \n",
      "4        6.0    Diesel     10.0  6-Speed Automatic    Laramie  Pickup Truck   \n",
      "\n",
      "   doors           exterior_color    interior_color        drivetrain  \n",
      "0    4.0                    White      Global Black  Four-wheel Drive  \n",
      "1    4.0                 Metallic      Global Black  Four-wheel Drive  \n",
      "2    4.0             Summit White  Teak/Light Shale  Four-wheel Drive  \n",
      "3    4.0  White Knuckle Clearcoat             Black   All-wheel Drive  \n",
      "4    4.0                   Silver             Black  Four-wheel Drive  \n"
     ]
    }
   ],
   "source": [
    "# Load dataset\n",
    "data = pd.read_csv('vehicle_data.csv')\n",
    "\n",
    "# Display first few rows\n",
    "print(data.head())\n",
    "\n"
   ]
  },
  {
   "cell_type": "markdown",
   "id": "e5541062-fb63-4cb3-bfe0-649ab42512e2",
   "metadata": {},
   "source": [
    "# Data Exploration and Cleaning"
   ]
  },
  {
   "cell_type": "code",
   "execution_count": 84,
   "id": "3e3d4456-d115-4d77-a566-21dd7b359103",
   "metadata": {},
   "outputs": [
    {
     "name": "stdout",
     "output_type": "stream",
     "text": [
      "name                0\n",
      "description        56\n",
      "make                0\n",
      "model               0\n",
      "year                0\n",
      "price              23\n",
      "engine              2\n",
      "cylinders         105\n",
      "fuel                7\n",
      "mileage            34\n",
      "transmission        2\n",
      "trim                1\n",
      "body                3\n",
      "doors               7\n",
      "exterior_color      5\n",
      "interior_color     38\n",
      "drivetrain          0\n",
      "dtype: int64\n",
      "<class 'pandas.core.frame.DataFrame'>\n",
      "Index: 979 entries, 0 to 1001\n",
      "Data columns (total 17 columns):\n",
      " #   Column          Non-Null Count  Dtype  \n",
      "---  ------          --------------  -----  \n",
      " 0   name            979 non-null    object \n",
      " 1   description     923 non-null    object \n",
      " 2   make            979 non-null    object \n",
      " 3   model           979 non-null    object \n",
      " 4   year            979 non-null    int64  \n",
      " 5   price           979 non-null    float64\n",
      " 6   engine          977 non-null    object \n",
      " 7   cylinders       877 non-null    float64\n",
      " 8   fuel            972 non-null    object \n",
      " 9   mileage         979 non-null    float64\n",
      " 10  transmission    977 non-null    object \n",
      " 11  trim            978 non-null    object \n",
      " 12  body            976 non-null    object \n",
      " 13  doors           972 non-null    float64\n",
      " 14  exterior_color  974 non-null    object \n",
      " 15  interior_color  942 non-null    object \n",
      " 16  drivetrain      979 non-null    object \n",
      "dtypes: float64(4), int64(1), object(12)\n",
      "memory usage: 137.7+ KB\n",
      "None\n"
     ]
    }
   ],
   "source": [
    "# Check for null values\n",
    "print(data.isnull().sum())\n",
    "\n",
    "# Drop rows with missing price\n",
    "data.dropna(subset=['price'], inplace=True)\n",
    "\n",
    "# Fill or drop other missing values\n",
    "data.fillna({'mileage': data['mileage'].median()}, inplace=True)\n",
    "\n",
    "# Display basic info about the dataset\n",
    "print(data.info())\n"
   ]
  },
  {
   "cell_type": "markdown",
   "id": "ad1eeb50-19a5-4e35-ad77-2d0b689ed4e2",
   "metadata": {},
   "source": [
    "# Feature Selection"
   ]
  },
  {
   "cell_type": "code",
   "execution_count": 85,
   "id": "a196c0fc-dde4-4a5e-b892-bd3771a1b433",
   "metadata": {},
   "outputs": [],
   "source": [
    "selected_features = ['make', 'model', 'year', 'mileage', 'fuel', 'body', 'transmission', 'engine', 'price']\n",
    "data = data[selected_features]\n",
    "\n",
    "# Encode target variable\n",
    "X = data.drop(columns=['price'])\n",
    "y = data['price']\n"
   ]
  },
  {
   "cell_type": "markdown",
   "id": "088aae79-01c7-4105-8bb8-03f35c9b3fc7",
   "metadata": {},
   "source": [
    "# Train Test Split"
   ]
  },
  {
   "cell_type": "code",
   "execution_count": 86,
   "id": "3c628c2e-6fc6-4196-9c76-3faa39761b3a",
   "metadata": {},
   "outputs": [
    {
     "name": "stdout",
     "output_type": "stream",
     "text": [
      "Training size: (783, 8)\n",
      "Testing size: (196, 8)\n"
     ]
    }
   ],
   "source": [
    "X_train, X_test, y_train, y_test = train_test_split(X, y, test_size=0.2, random_state=42)\n",
    "\n",
    "print(\"Training size:\", X_train.shape)\n",
    "print(\"Testing size:\", X_test.shape)"
   ]
  },
  {
   "cell_type": "markdown",
   "id": "c2fac376-50c1-438e-a093-681b9f9bf407",
   "metadata": {},
   "source": [
    "# Data Preprocessing"
   ]
  },
  {
   "cell_type": "code",
   "execution_count": 87,
   "id": "b3af2c28-a0ef-4b37-af4e-4ad830f7f7e5",
   "metadata": {},
   "outputs": [],
   "source": [
    "# Identify categorical and numerical columns\n",
    "categorical_columns = ['make', 'model', 'fuel', 'body', 'transmission', 'engine']\n",
    "numerical_columns = ['year', 'mileage']\n",
    "\n",
    "# Preprocessing for numerical data\n",
    "numerical_transformer = StandardScaler()\n",
    "\n",
    "# Preprocessing for categorical data\n",
    "categorical_transformer = OneHotEncoder(handle_unknown='ignore')\n",
    "\n",
    "# Combine preprocessors in a column transformer\n",
    "preprocessor = ColumnTransformer(\n",
    "    transformers=[\n",
    "        ('num', numerical_transformer, numerical_columns),\n",
    "        ('cat', categorical_transformer, categorical_columns)\n",
    "    ])\n"
   ]
  },
  {
   "cell_type": "markdown",
   "id": "31f51c82-135c-46f5-a69b-81c03df4af4f",
   "metadata": {},
   "source": [
    "# Build the Model Pipeline"
   ]
  },
  {
   "cell_type": "code",
   "execution_count": 88,
   "id": "cb6c4cdb-2955-4001-8b9d-1d460ae01711",
   "metadata": {},
   "outputs": [
    {
     "data": {
      "text/html": [
       "<style>#sk-container-id-2 {color: black;background-color: white;}#sk-container-id-2 pre{padding: 0;}#sk-container-id-2 div.sk-toggleable {background-color: white;}#sk-container-id-2 label.sk-toggleable__label {cursor: pointer;display: block;width: 100%;margin-bottom: 0;padding: 0.3em;box-sizing: border-box;text-align: center;}#sk-container-id-2 label.sk-toggleable__label-arrow:before {content: \"▸\";float: left;margin-right: 0.25em;color: #696969;}#sk-container-id-2 label.sk-toggleable__label-arrow:hover:before {color: black;}#sk-container-id-2 div.sk-estimator:hover label.sk-toggleable__label-arrow:before {color: black;}#sk-container-id-2 div.sk-toggleable__content {max-height: 0;max-width: 0;overflow: hidden;text-align: left;background-color: #f0f8ff;}#sk-container-id-2 div.sk-toggleable__content pre {margin: 0.2em;color: black;border-radius: 0.25em;background-color: #f0f8ff;}#sk-container-id-2 input.sk-toggleable__control:checked~div.sk-toggleable__content {max-height: 200px;max-width: 100%;overflow: auto;}#sk-container-id-2 input.sk-toggleable__control:checked~label.sk-toggleable__label-arrow:before {content: \"▾\";}#sk-container-id-2 div.sk-estimator input.sk-toggleable__control:checked~label.sk-toggleable__label {background-color: #d4ebff;}#sk-container-id-2 div.sk-label input.sk-toggleable__control:checked~label.sk-toggleable__label {background-color: #d4ebff;}#sk-container-id-2 input.sk-hidden--visually {border: 0;clip: rect(1px 1px 1px 1px);clip: rect(1px, 1px, 1px, 1px);height: 1px;margin: -1px;overflow: hidden;padding: 0;position: absolute;width: 1px;}#sk-container-id-2 div.sk-estimator {font-family: monospace;background-color: #f0f8ff;border: 1px dotted black;border-radius: 0.25em;box-sizing: border-box;margin-bottom: 0.5em;}#sk-container-id-2 div.sk-estimator:hover {background-color: #d4ebff;}#sk-container-id-2 div.sk-parallel-item::after {content: \"\";width: 100%;border-bottom: 1px solid gray;flex-grow: 1;}#sk-container-id-2 div.sk-label:hover label.sk-toggleable__label {background-color: #d4ebff;}#sk-container-id-2 div.sk-serial::before {content: \"\";position: absolute;border-left: 1px solid gray;box-sizing: border-box;top: 0;bottom: 0;left: 50%;z-index: 0;}#sk-container-id-2 div.sk-serial {display: flex;flex-direction: column;align-items: center;background-color: white;padding-right: 0.2em;padding-left: 0.2em;position: relative;}#sk-container-id-2 div.sk-item {position: relative;z-index: 1;}#sk-container-id-2 div.sk-parallel {display: flex;align-items: stretch;justify-content: center;background-color: white;position: relative;}#sk-container-id-2 div.sk-item::before, #sk-container-id-2 div.sk-parallel-item::before {content: \"\";position: absolute;border-left: 1px solid gray;box-sizing: border-box;top: 0;bottom: 0;left: 50%;z-index: -1;}#sk-container-id-2 div.sk-parallel-item {display: flex;flex-direction: column;z-index: 1;position: relative;background-color: white;}#sk-container-id-2 div.sk-parallel-item:first-child::after {align-self: flex-end;width: 50%;}#sk-container-id-2 div.sk-parallel-item:last-child::after {align-self: flex-start;width: 50%;}#sk-container-id-2 div.sk-parallel-item:only-child::after {width: 0;}#sk-container-id-2 div.sk-dashed-wrapped {border: 1px dashed gray;margin: 0 0.4em 0.5em 0.4em;box-sizing: border-box;padding-bottom: 0.4em;background-color: white;}#sk-container-id-2 div.sk-label label {font-family: monospace;font-weight: bold;display: inline-block;line-height: 1.2em;}#sk-container-id-2 div.sk-label-container {text-align: center;}#sk-container-id-2 div.sk-container {/* jupyter's `normalize.less` sets `[hidden] { display: none; }` but bootstrap.min.css set `[hidden] { display: none !important; }` so we also need the `!important` here to be able to override the default hidden behavior on the sphinx rendered scikit-learn.org. See: https://github.com/scikit-learn/scikit-learn/issues/21755 */display: inline-block !important;position: relative;}#sk-container-id-2 div.sk-text-repr-fallback {display: none;}</style><div id=\"sk-container-id-2\" class=\"sk-top-container\"><div class=\"sk-text-repr-fallback\"><pre>Pipeline(steps=[(&#x27;preprocessor&#x27;,\n",
       "                 ColumnTransformer(transformers=[(&#x27;num&#x27;, StandardScaler(),\n",
       "                                                  [&#x27;year&#x27;, &#x27;mileage&#x27;]),\n",
       "                                                 (&#x27;cat&#x27;,\n",
       "                                                  OneHotEncoder(handle_unknown=&#x27;ignore&#x27;),\n",
       "                                                  [&#x27;make&#x27;, &#x27;model&#x27;, &#x27;fuel&#x27;,\n",
       "                                                   &#x27;body&#x27;, &#x27;transmission&#x27;,\n",
       "                                                   &#x27;engine&#x27;])])),\n",
       "                (&#x27;regressor&#x27;, RandomForestRegressor(random_state=42))])</pre><b>In a Jupyter environment, please rerun this cell to show the HTML representation or trust the notebook. <br />On GitHub, the HTML representation is unable to render, please try loading this page with nbviewer.org.</b></div><div class=\"sk-container\" hidden><div class=\"sk-item sk-dashed-wrapped\"><div class=\"sk-label-container\"><div class=\"sk-label sk-toggleable\"><input class=\"sk-toggleable__control sk-hidden--visually\" id=\"sk-estimator-id-8\" type=\"checkbox\" ><label for=\"sk-estimator-id-8\" class=\"sk-toggleable__label sk-toggleable__label-arrow\">Pipeline</label><div class=\"sk-toggleable__content\"><pre>Pipeline(steps=[(&#x27;preprocessor&#x27;,\n",
       "                 ColumnTransformer(transformers=[(&#x27;num&#x27;, StandardScaler(),\n",
       "                                                  [&#x27;year&#x27;, &#x27;mileage&#x27;]),\n",
       "                                                 (&#x27;cat&#x27;,\n",
       "                                                  OneHotEncoder(handle_unknown=&#x27;ignore&#x27;),\n",
       "                                                  [&#x27;make&#x27;, &#x27;model&#x27;, &#x27;fuel&#x27;,\n",
       "                                                   &#x27;body&#x27;, &#x27;transmission&#x27;,\n",
       "                                                   &#x27;engine&#x27;])])),\n",
       "                (&#x27;regressor&#x27;, RandomForestRegressor(random_state=42))])</pre></div></div></div><div class=\"sk-serial\"><div class=\"sk-item sk-dashed-wrapped\"><div class=\"sk-label-container\"><div class=\"sk-label sk-toggleable\"><input class=\"sk-toggleable__control sk-hidden--visually\" id=\"sk-estimator-id-9\" type=\"checkbox\" ><label for=\"sk-estimator-id-9\" class=\"sk-toggleable__label sk-toggleable__label-arrow\">preprocessor: ColumnTransformer</label><div class=\"sk-toggleable__content\"><pre>ColumnTransformer(transformers=[(&#x27;num&#x27;, StandardScaler(), [&#x27;year&#x27;, &#x27;mileage&#x27;]),\n",
       "                                (&#x27;cat&#x27;, OneHotEncoder(handle_unknown=&#x27;ignore&#x27;),\n",
       "                                 [&#x27;make&#x27;, &#x27;model&#x27;, &#x27;fuel&#x27;, &#x27;body&#x27;,\n",
       "                                  &#x27;transmission&#x27;, &#x27;engine&#x27;])])</pre></div></div></div><div class=\"sk-parallel\"><div class=\"sk-parallel-item\"><div class=\"sk-item\"><div class=\"sk-label-container\"><div class=\"sk-label sk-toggleable\"><input class=\"sk-toggleable__control sk-hidden--visually\" id=\"sk-estimator-id-10\" type=\"checkbox\" ><label for=\"sk-estimator-id-10\" class=\"sk-toggleable__label sk-toggleable__label-arrow\">num</label><div class=\"sk-toggleable__content\"><pre>[&#x27;year&#x27;, &#x27;mileage&#x27;]</pre></div></div></div><div class=\"sk-serial\"><div class=\"sk-item\"><div class=\"sk-estimator sk-toggleable\"><input class=\"sk-toggleable__control sk-hidden--visually\" id=\"sk-estimator-id-11\" type=\"checkbox\" ><label for=\"sk-estimator-id-11\" class=\"sk-toggleable__label sk-toggleable__label-arrow\">StandardScaler</label><div class=\"sk-toggleable__content\"><pre>StandardScaler()</pre></div></div></div></div></div></div><div class=\"sk-parallel-item\"><div class=\"sk-item\"><div class=\"sk-label-container\"><div class=\"sk-label sk-toggleable\"><input class=\"sk-toggleable__control sk-hidden--visually\" id=\"sk-estimator-id-12\" type=\"checkbox\" ><label for=\"sk-estimator-id-12\" class=\"sk-toggleable__label sk-toggleable__label-arrow\">cat</label><div class=\"sk-toggleable__content\"><pre>[&#x27;make&#x27;, &#x27;model&#x27;, &#x27;fuel&#x27;, &#x27;body&#x27;, &#x27;transmission&#x27;, &#x27;engine&#x27;]</pre></div></div></div><div class=\"sk-serial\"><div class=\"sk-item\"><div class=\"sk-estimator sk-toggleable\"><input class=\"sk-toggleable__control sk-hidden--visually\" id=\"sk-estimator-id-13\" type=\"checkbox\" ><label for=\"sk-estimator-id-13\" class=\"sk-toggleable__label sk-toggleable__label-arrow\">OneHotEncoder</label><div class=\"sk-toggleable__content\"><pre>OneHotEncoder(handle_unknown=&#x27;ignore&#x27;)</pre></div></div></div></div></div></div></div></div><div class=\"sk-item\"><div class=\"sk-estimator sk-toggleable\"><input class=\"sk-toggleable__control sk-hidden--visually\" id=\"sk-estimator-id-14\" type=\"checkbox\" ><label for=\"sk-estimator-id-14\" class=\"sk-toggleable__label sk-toggleable__label-arrow\">RandomForestRegressor</label><div class=\"sk-toggleable__content\"><pre>RandomForestRegressor(random_state=42)</pre></div></div></div></div></div></div></div>"
      ],
      "text/plain": [
       "Pipeline(steps=[('preprocessor',\n",
       "                 ColumnTransformer(transformers=[('num', StandardScaler(),\n",
       "                                                  ['year', 'mileage']),\n",
       "                                                 ('cat',\n",
       "                                                  OneHotEncoder(handle_unknown='ignore'),\n",
       "                                                  ['make', 'model', 'fuel',\n",
       "                                                   'body', 'transmission',\n",
       "                                                   'engine'])])),\n",
       "                ('regressor', RandomForestRegressor(random_state=42))])"
      ]
     },
     "execution_count": 88,
     "metadata": {},
     "output_type": "execute_result"
    }
   ],
   "source": [
    "# Define the pipeline\n",
    "model = Pipeline(steps=[\n",
    "    ('preprocessor', preprocessor),\n",
    "    ('regressor', RandomForestRegressor(n_estimators=100, random_state=42))\n",
    "])\n",
    "\n",
    "# Train the model\n",
    "model.fit(X_train, y_train)\n"
   ]
  },
  {
   "cell_type": "markdown",
   "id": "12495015-d3fc-465f-84e2-05664bbd1104",
   "metadata": {},
   "source": [
    "# Evaluate the Model"
   ]
  },
  {
   "cell_type": "code",
   "execution_count": 89,
   "id": "c19e7883-cd4b-4726-a9f2-f2919e5e1085",
   "metadata": {},
   "outputs": [
    {
     "name": "stdout",
     "output_type": "stream",
     "text": [
      "Mean Squared Error: 75162010.37893076\n",
      "R2 Score: 0.7538821907969812\n"
     ]
    }
   ],
   "source": [
    "# Predict on test data\n",
    "y_pred = model.predict(X_test)\n",
    "\n",
    "# Evaluate the model\n",
    "mse = mean_squared_error(y_test, y_pred)\n",
    "r2 = r2_score(y_test, y_pred)\n",
    "\n",
    "print(f\"Mean Squared Error: {mse}\")\n",
    "print(f\"R2 Score: {r2}\")\n"
   ]
  },
  {
   "cell_type": "markdown",
   "id": "1ac6d5d8-d73e-43e6-90c7-42b3888aa324",
   "metadata": {},
   "source": [
    "# Visualize Results"
   ]
  },
  {
   "cell_type": "code",
   "execution_count": 90,
   "id": "977f353a-fd18-449a-abe2-88a4b27f8ae6",
   "metadata": {},
   "outputs": [
    {
     "data": {
      "image/png": "[encoded data removed]",
      "text/plain": [
       "<Figure size 1000x600 with 1 Axes>"
      ]
     },
     "metadata": {},
     "output_type": "display_data"
    }
   ],
   "source": [
    "# Compare actual vs predicted prices\n",
    "plt.figure(figsize=(10, 6))\n",
    "sns.scatterplot(x=y_test, y=y_pred, alpha=0.6)\n",
    "plt.xlabel(\"Actual Prices\")\n",
    "plt.ylabel(\"Predicted Prices\")\n",
    "plt.title(\"Actual vs Predicted Prices\")\n",
    "plt.show()\n"
   ]
  },
  {
   "cell_type": "markdown",
   "id": "f523c693-3447-4e8a-bd05-7275d17133c5",
   "metadata": {},
   "source": [
    "# Save the Model"
   ]
  },
  {
   "cell_type": "code",
   "execution_count": 91,
   "id": "5bf4f1c5-4a3c-4aa8-9e14-66146b0b9f39",
   "metadata": {},
   "outputs": [
    {
     "data": {
      "text/plain": [
       "['vehicle_price_prediction_model.pkl']"
      ]
     },
     "execution_count": 91,
     "metadata": {},
     "output_type": "execute_result"
    }
   ],
   "source": [
    "import joblib\n",
    "\n",
    "# Save the trained model\n",
    "joblib.dump(model, 'vehicle_price_prediction_model.pkl')\n"
   ]
  },
  {
   "cell_type": "code",
   "execution_count": null,
   "id": "a5f2efd3-2540-415c-9504-11c80acc6159",
   "metadata": {},
   "outputs": [],
   "source": []
  },
  {
   "cell_type": "code",
   "execution_count": null,
   "id": "4be6375c-bd6c-4a98-a82a-d8dd91d93b4f",
   "metadata": {},
   "outputs": [],
   "source": []
  }
 ],
 "metadata": {
  "kernelspec": {
   "display_name": "Python 3 (ipykernel)",
   "language": "python",
   "name": "python3"
  },
  "language_info": {
   "codemirror_mode": {
    "name": "ipython",
    "version": 3
   },
   "file_extension": ".py",
   "mimetype": "text/x-python",
   "name": "python",
   "nbconvert_exporter": "python",
   "pygments_lexer": "ipython3",
   "version": "3.11.7"
  }
 },
 "nbformat": 4,
 "nbformat_minor": 5
}
