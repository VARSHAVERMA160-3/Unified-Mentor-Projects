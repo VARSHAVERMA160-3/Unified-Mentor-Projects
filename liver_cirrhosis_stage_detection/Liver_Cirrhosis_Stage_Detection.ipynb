{
 "cells": [
  {
   "cell_type": "markdown",
   "id": "bd1fea6c-5dac-4768-ac3e-9c480f0aeb3d",
   "metadata": {},
   "source": [
    "# Importing Libraries"
   ]
  },
  {
   "cell_type": "code",
   "execution_count": 19,
   "id": "b171b278-df39-4a46-a0fd-f13cc195f1b5",
   "metadata": {},
   "outputs": [],
   "source": [
    "import pandas as pd\n",
    "from sklearn.model_selection import train_test_split\n",
    "from sklearn.compose import ColumnTransformer\n",
    "from sklearn.pipeline import Pipeline\n",
    "from sklearn.preprocessing import StandardScaler, OneHotEncoder\n",
    "from sklearn.ensemble import RandomForestClassifier\n",
    "from sklearn.metrics import accuracy_score, classification_report"
   ]
  },
  {
   "cell_type": "markdown",
   "id": "b1d84b7a-fe0a-44fb-b41f-9ac411d9a8da",
   "metadata": {},
   "source": [
    "# Loading Dataset"
   ]
  },
  {
   "cell_type": "code",
   "execution_count": 20,
   "id": "8ca0183f-b3da-4a1f-8b45-77d8041785d3",
   "metadata": {},
   "outputs": [],
   "source": [
    "data = pd.read_csv('liver_cirrhosis.csv')"
   ]
  },
  {
   "cell_type": "markdown",
   "id": "322ea9ff-2faa-46af-b50c-5f799c695c09",
   "metadata": {},
   "source": [
    "# Data Processing"
   ]
  },
  {
   "cell_type": "code",
   "execution_count": 21,
   "id": "ef04d21f-28c1-49ff-a8ed-5dcb94754ce7",
   "metadata": {},
   "outputs": [],
   "source": [
    "data['Age_Years'] = data['Age'] / 365"
   ]
  },
  {
   "cell_type": "code",
   "execution_count": 22,
   "id": "e91144f0-1269-4dea-8400-faee6593d879",
   "metadata": {},
   "outputs": [],
   "source": [
    "X = data.drop(columns=['Stage', 'Age'])  # Drop 'Stage' (target) and original 'Age'\n",
    "y = data['Stage']"
   ]
  },
  {
   "cell_type": "code",
   "execution_count": 23,
   "id": "11b958b2-8a3d-4682-a2a7-a5579dfa7353",
   "metadata": {},
   "outputs": [],
   "source": [
    "numerical_cols = ['Bilirubin', 'Cholesterol', 'Albumin', 'Copper', \n",
    "                  'Alk_Phos', 'SGOT', 'Tryglicerides', 'Platelets', 'Prothrombin', 'Age_Years']\n",
    "binary_cols = ['Sex', 'Ascites', 'Hepatomegaly', 'Spiders']\n",
    "multi_class_cols = ['Edema', 'Status', 'Drug']"
   ]
  },
  {
   "cell_type": "code",
   "execution_count": 24,
   "id": "41bc032f-2aa9-4af9-8387-ebf3d0783a59",
   "metadata": {},
   "outputs": [],
   "source": [
    "numerical_transformer = Pipeline(steps=[\n",
    "    ('scaler', StandardScaler())\n",
    "])\n",
    "\n",
    "binary_transformer = Pipeline(steps=[\n",
    "    ('binary_encoder', OneHotEncoder(drop='if_binary'))\n",
    "])\n",
    "\n",
    "multi_class_transformer = Pipeline(steps=[\n",
    "    ('onehot', OneHotEncoder(drop='first'))  # Drop first to avoid redundancy\n",
    "])"
   ]
  },
  {
   "cell_type": "code",
   "execution_count": 25,
   "id": "2dbddd19-31af-4432-87e1-473389cbc6f0",
   "metadata": {},
   "outputs": [],
   "source": [
    "preprocessor = ColumnTransformer(\n",
    "    transformers=[\n",
    "        ('num', numerical_transformer, numerical_cols),\n",
    "        ('bin', binary_transformer, binary_cols),\n",
    "        ('multi', multi_class_transformer, multi_class_cols)\n",
    "    ]\n",
    ")"
   ]
  },
  {
   "cell_type": "code",
   "execution_count": 26,
   "id": "bcc2a883-a4ae-4c43-8d59-b2862dfb11e1",
   "metadata": {},
   "outputs": [],
   "source": [
    "model = Pipeline(steps=[\n",
    "    ('preprocessor', preprocessor),\n",
    "    ('classifier', RandomForestClassifier(random_state=42))\n",
    "])"
   ]
  },
  {
   "cell_type": "markdown",
   "id": "03d88d4b-a88d-4c5c-9f23-c59a71d37add",
   "metadata": {},
   "source": [
    "# Splitting the Dataset into training and testing set"
   ]
  },
  {
   "cell_type": "code",
   "execution_count": 27,
   "id": "010d87a8-7daf-4724-93f6-9b3b20f9a484",
   "metadata": {},
   "outputs": [],
   "source": [
    "X_train, X_test, y_train, y_test = train_test_split(X, y, test_size=0.2, random_state=42)"
   ]
  },
  {
   "cell_type": "markdown",
   "id": "92fad12d-7b22-441a-830d-99ddc331ca20",
   "metadata": {},
   "source": [
    "# Fitting the Model"
   ]
  },
  {
   "cell_type": "code",
   "execution_count": 28,
   "id": "2d7d34b0-88dd-403a-99c3-8fb3f7bcae4a",
   "metadata": {},
   "outputs": [
    {
     "data": {
      "text/html": [
       "<style>#sk-container-id-1 {color: black;background-color: white;}#sk-container-id-1 pre{padding: 0;}#sk-container-id-1 div.sk-toggleable {background-color: white;}#sk-container-id-1 label.sk-toggleable__label {cursor: pointer;display: block;width: 100%;margin-bottom: 0;padding: 0.3em;box-sizing: border-box;text-align: center;}#sk-container-id-1 label.sk-toggleable__label-arrow:before {content: \"▸\";float: left;margin-right: 0.25em;color: #696969;}#sk-container-id-1 label.sk-toggleable__label-arrow:hover:before {color: black;}#sk-container-id-1 div.sk-estimator:hover label.sk-toggleable__label-arrow:before {color: black;}#sk-container-id-1 div.sk-toggleable__content {max-height: 0;max-width: 0;overflow: hidden;text-align: left;background-color: #f0f8ff;}#sk-container-id-1 div.sk-toggleable__content pre {margin: 0.2em;color: black;border-radius: 0.25em;background-color: #f0f8ff;}#sk-container-id-1 input.sk-toggleable__control:checked~div.sk-toggleable__content {max-height: 200px;max-width: 100%;overflow: auto;}#sk-container-id-1 input.sk-toggleable__control:checked~label.sk-toggleable__label-arrow:before {content: \"▾\";}#sk-container-id-1 div.sk-estimator input.sk-toggleable__control:checked~label.sk-toggleable__label {background-color: #d4ebff;}#sk-container-id-1 div.sk-label input.sk-toggleable__control:checked~label.sk-toggleable__label {background-color: #d4ebff;}#sk-container-id-1 input.sk-hidden--visually {border: 0;clip: rect(1px 1px 1px 1px);clip: rect(1px, 1px, 1px, 1px);height: 1px;margin: -1px;overflow: hidden;padding: 0;position: absolute;width: 1px;}#sk-container-id-1 div.sk-estimator {font-family: monospace;background-color: #f0f8ff;border: 1px dotted black;border-radius: 0.25em;box-sizing: border-box;margin-bottom: 0.5em;}#sk-container-id-1 div.sk-estimator:hover {background-color: #d4ebff;}#sk-container-id-1 div.sk-parallel-item::after {content: \"\";width: 100%;border-bottom: 1px solid gray;flex-grow: 1;}#sk-container-id-1 div.sk-label:hover label.sk-toggleable__label {background-color: #d4ebff;}#sk-container-id-1 div.sk-serial::before {content: \"\";position: absolute;border-left: 1px solid gray;box-sizing: border-box;top: 0;bottom: 0;left: 50%;z-index: 0;}#sk-container-id-1 div.sk-serial {display: flex;flex-direction: column;align-items: center;background-color: white;padding-right: 0.2em;padding-left: 0.2em;position: relative;}#sk-container-id-1 div.sk-item {position: relative;z-index: 1;}#sk-container-id-1 div.sk-parallel {display: flex;align-items: stretch;justify-content: center;background-color: white;position: relative;}#sk-container-id-1 div.sk-item::before, #sk-container-id-1 div.sk-parallel-item::before {content: \"\";position: absolute;border-left: 1px solid gray;box-sizing: border-box;top: 0;bottom: 0;left: 50%;z-index: -1;}#sk-container-id-1 div.sk-parallel-item {display: flex;flex-direction: column;z-index: 1;position: relative;background-color: white;}#sk-container-id-1 div.sk-parallel-item:first-child::after {align-self: flex-end;width: 50%;}#sk-container-id-1 div.sk-parallel-item:last-child::after {align-self: flex-start;width: 50%;}#sk-container-id-1 div.sk-parallel-item:only-child::after {width: 0;}#sk-container-id-1 div.sk-dashed-wrapped {border: 1px dashed gray;margin: 0 0.4em 0.5em 0.4em;box-sizing: border-box;padding-bottom: 0.4em;background-color: white;}#sk-container-id-1 div.sk-label label {font-family: monospace;font-weight: bold;display: inline-block;line-height: 1.2em;}#sk-container-id-1 div.sk-label-container {text-align: center;}#sk-container-id-1 div.sk-container {/* jupyter's `normalize.less` sets `[hidden] { display: none; }` but bootstrap.min.css set `[hidden] { display: none !important; }` so we also need the `!important` here to be able to override the default hidden behavior on the sphinx rendered scikit-learn.org. See: https://github.com/scikit-learn/scikit-learn/issues/21755 */display: inline-block !important;position: relative;}#sk-container-id-1 div.sk-text-repr-fallback {display: none;}</style><div id=\"sk-container-id-1\" class=\"sk-top-container\"><div class=\"sk-text-repr-fallback\"><pre>Pipeline(steps=[(&#x27;preprocessor&#x27;,\n",
       "                 ColumnTransformer(transformers=[(&#x27;num&#x27;,\n",
       "                                                  Pipeline(steps=[(&#x27;scaler&#x27;,\n",
       "                                                                   StandardScaler())]),\n",
       "                                                  [&#x27;Bilirubin&#x27;, &#x27;Cholesterol&#x27;,\n",
       "                                                   &#x27;Albumin&#x27;, &#x27;Copper&#x27;,\n",
       "                                                   &#x27;Alk_Phos&#x27;, &#x27;SGOT&#x27;,\n",
       "                                                   &#x27;Tryglicerides&#x27;, &#x27;Platelets&#x27;,\n",
       "                                                   &#x27;Prothrombin&#x27;,\n",
       "                                                   &#x27;Age_Years&#x27;]),\n",
       "                                                 (&#x27;bin&#x27;,\n",
       "                                                  Pipeline(steps=[(&#x27;binary_encoder&#x27;,\n",
       "                                                                   OneHotEncoder(drop=&#x27;if_binary&#x27;))]),\n",
       "                                                  [&#x27;Sex&#x27;, &#x27;Ascites&#x27;,\n",
       "                                                   &#x27;Hepatomegaly&#x27;, &#x27;Spiders&#x27;]),\n",
       "                                                 (&#x27;multi&#x27;,\n",
       "                                                  Pipeline(steps=[(&#x27;onehot&#x27;,\n",
       "                                                                   OneHotEncoder(drop=&#x27;first&#x27;))]),\n",
       "                                                  [&#x27;Edema&#x27;, &#x27;Status&#x27;,\n",
       "                                                   &#x27;Drug&#x27;])])),\n",
       "                (&#x27;classifier&#x27;, RandomForestClassifier(random_state=42))])</pre><b>In a Jupyter environment, please rerun this cell to show the HTML representation or trust the notebook. <br />On GitHub, the HTML representation is unable to render, please try loading this page with nbviewer.org.</b></div><div class=\"sk-container\" hidden><div class=\"sk-item sk-dashed-wrapped\"><div class=\"sk-label-container\"><div class=\"sk-label sk-toggleable\"><input class=\"sk-toggleable__control sk-hidden--visually\" id=\"sk-estimator-id-1\" type=\"checkbox\" ><label for=\"sk-estimator-id-1\" class=\"sk-toggleable__label sk-toggleable__label-arrow\">Pipeline</label><div class=\"sk-toggleable__content\"><pre>Pipeline(steps=[(&#x27;preprocessor&#x27;,\n",
       "                 ColumnTransformer(transformers=[(&#x27;num&#x27;,\n",
       "                                                  Pipeline(steps=[(&#x27;scaler&#x27;,\n",
       "                                                                   StandardScaler())]),\n",
       "                                                  [&#x27;Bilirubin&#x27;, &#x27;Cholesterol&#x27;,\n",
       "                                                   &#x27;Albumin&#x27;, &#x27;Copper&#x27;,\n",
       "                                                   &#x27;Alk_Phos&#x27;, &#x27;SGOT&#x27;,\n",
       "                                                   &#x27;Tryglicerides&#x27;, &#x27;Platelets&#x27;,\n",
       "                                                   &#x27;Prothrombin&#x27;,\n",
       "                                                   &#x27;Age_Years&#x27;]),\n",
       "                                                 (&#x27;bin&#x27;,\n",
       "                                                  Pipeline(steps=[(&#x27;binary_encoder&#x27;,\n",
       "                                                                   OneHotEncoder(drop=&#x27;if_binary&#x27;))]),\n",
       "                                                  [&#x27;Sex&#x27;, &#x27;Ascites&#x27;,\n",
       "                                                   &#x27;Hepatomegaly&#x27;, &#x27;Spiders&#x27;]),\n",
       "                                                 (&#x27;multi&#x27;,\n",
       "                                                  Pipeline(steps=[(&#x27;onehot&#x27;,\n",
       "                                                                   OneHotEncoder(drop=&#x27;first&#x27;))]),\n",
       "                                                  [&#x27;Edema&#x27;, &#x27;Status&#x27;,\n",
       "                                                   &#x27;Drug&#x27;])])),\n",
       "                (&#x27;classifier&#x27;, RandomForestClassifier(random_state=42))])</pre></div></div></div><div class=\"sk-serial\"><div class=\"sk-item sk-dashed-wrapped\"><div class=\"sk-label-container\"><div class=\"sk-label sk-toggleable\"><input class=\"sk-toggleable__control sk-hidden--visually\" id=\"sk-estimator-id-2\" type=\"checkbox\" ><label for=\"sk-estimator-id-2\" class=\"sk-toggleable__label sk-toggleable__label-arrow\">preprocessor: ColumnTransformer</label><div class=\"sk-toggleable__content\"><pre>ColumnTransformer(transformers=[(&#x27;num&#x27;,\n",
       "                                 Pipeline(steps=[(&#x27;scaler&#x27;, StandardScaler())]),\n",
       "                                 [&#x27;Bilirubin&#x27;, &#x27;Cholesterol&#x27;, &#x27;Albumin&#x27;,\n",
       "                                  &#x27;Copper&#x27;, &#x27;Alk_Phos&#x27;, &#x27;SGOT&#x27;, &#x27;Tryglicerides&#x27;,\n",
       "                                  &#x27;Platelets&#x27;, &#x27;Prothrombin&#x27;, &#x27;Age_Years&#x27;]),\n",
       "                                (&#x27;bin&#x27;,\n",
       "                                 Pipeline(steps=[(&#x27;binary_encoder&#x27;,\n",
       "                                                  OneHotEncoder(drop=&#x27;if_binary&#x27;))]),\n",
       "                                 [&#x27;Sex&#x27;, &#x27;Ascites&#x27;, &#x27;Hepatomegaly&#x27;, &#x27;Spiders&#x27;]),\n",
       "                                (&#x27;multi&#x27;,\n",
       "                                 Pipeline(steps=[(&#x27;onehot&#x27;,\n",
       "                                                  OneHotEncoder(drop=&#x27;first&#x27;))]),\n",
       "                                 [&#x27;Edema&#x27;, &#x27;Status&#x27;, &#x27;Drug&#x27;])])</pre></div></div></div><div class=\"sk-parallel\"><div class=\"sk-parallel-item\"><div class=\"sk-item\"><div class=\"sk-label-container\"><div class=\"sk-label sk-toggleable\"><input class=\"sk-toggleable__control sk-hidden--visually\" id=\"sk-estimator-id-3\" type=\"checkbox\" ><label for=\"sk-estimator-id-3\" class=\"sk-toggleable__label sk-toggleable__label-arrow\">num</label><div class=\"sk-toggleable__content\"><pre>[&#x27;Bilirubin&#x27;, &#x27;Cholesterol&#x27;, &#x27;Albumin&#x27;, &#x27;Copper&#x27;, &#x27;Alk_Phos&#x27;, &#x27;SGOT&#x27;, &#x27;Tryglicerides&#x27;, &#x27;Platelets&#x27;, &#x27;Prothrombin&#x27;, &#x27;Age_Years&#x27;]</pre></div></div></div><div class=\"sk-serial\"><div class=\"sk-item\"><div class=\"sk-serial\"><div class=\"sk-item\"><div class=\"sk-estimator sk-toggleable\"><input class=\"sk-toggleable__control sk-hidden--visually\" id=\"sk-estimator-id-4\" type=\"checkbox\" ><label for=\"sk-estimator-id-4\" class=\"sk-toggleable__label sk-toggleable__label-arrow\">StandardScaler</label><div class=\"sk-toggleable__content\"><pre>StandardScaler()</pre></div></div></div></div></div></div></div></div><div class=\"sk-parallel-item\"><div class=\"sk-item\"><div class=\"sk-label-container\"><div class=\"sk-label sk-toggleable\"><input class=\"sk-toggleable__control sk-hidden--visually\" id=\"sk-estimator-id-5\" type=\"checkbox\" ><label for=\"sk-estimator-id-5\" class=\"sk-toggleable__label sk-toggleable__label-arrow\">bin</label><div class=\"sk-toggleable__content\"><pre>[&#x27;Sex&#x27;, &#x27;Ascites&#x27;, &#x27;Hepatomegaly&#x27;, &#x27;Spiders&#x27;]</pre></div></div></div><div class=\"sk-serial\"><div class=\"sk-item\"><div class=\"sk-serial\"><div class=\"sk-item\"><div class=\"sk-estimator sk-toggleable\"><input class=\"sk-toggleable__control sk-hidden--visually\" id=\"sk-estimator-id-6\" type=\"checkbox\" ><label for=\"sk-estimator-id-6\" class=\"sk-toggleable__label sk-toggleable__label-arrow\">OneHotEncoder</label><div class=\"sk-toggleable__content\"><pre>OneHotEncoder(drop=&#x27;if_binary&#x27;)</pre></div></div></div></div></div></div></div></div><div class=\"sk-parallel-item\"><div class=\"sk-item\"><div class=\"sk-label-container\"><div class=\"sk-label sk-toggleable\"><input class=\"sk-toggleable__control sk-hidden--visually\" id=\"sk-estimator-id-7\" type=\"checkbox\" ><label for=\"sk-estimator-id-7\" class=\"sk-toggleable__label sk-toggleable__label-arrow\">multi</label><div class=\"sk-toggleable__content\"><pre>[&#x27;Edema&#x27;, &#x27;Status&#x27;, &#x27;Drug&#x27;]</pre></div></div></div><div class=\"sk-serial\"><div class=\"sk-item\"><div class=\"sk-serial\"><div class=\"sk-item\"><div class=\"sk-estimator sk-toggleable\"><input class=\"sk-toggleable__control sk-hidden--visually\" id=\"sk-estimator-id-8\" type=\"checkbox\" ><label for=\"sk-estimator-id-8\" class=\"sk-toggleable__label sk-toggleable__label-arrow\">OneHotEncoder</label><div class=\"sk-toggleable__content\"><pre>OneHotEncoder(drop=&#x27;first&#x27;)</pre></div></div></div></div></div></div></div></div></div></div><div class=\"sk-item\"><div class=\"sk-estimator sk-toggleable\"><input class=\"sk-toggleable__control sk-hidden--visually\" id=\"sk-estimator-id-9\" type=\"checkbox\" ><label for=\"sk-estimator-id-9\" class=\"sk-toggleable__label sk-toggleable__label-arrow\">RandomForestClassifier</label><div class=\"sk-toggleable__content\"><pre>RandomForestClassifier(random_state=42)</pre></div></div></div></div></div></div></div>"
      ],
      "text/plain": [
       "Pipeline(steps=[('preprocessor',\n",
       "                 ColumnTransformer(transformers=[('num',\n",
       "                                                  Pipeline(steps=[('scaler',\n",
       "                                                                   StandardScaler())]),\n",
       "                                                  ['Bilirubin', 'Cholesterol',\n",
       "                                                   'Albumin', 'Copper',\n",
       "                                                   'Alk_Phos', 'SGOT',\n",
       "                                                   'Tryglicerides', 'Platelets',\n",
       "                                                   'Prothrombin',\n",
       "                                                   'Age_Years']),\n",
       "                                                 ('bin',\n",
       "                                                  Pipeline(steps=[('binary_encoder',\n",
       "                                                                   OneHotEncoder(drop='if_binary'))]),\n",
       "                                                  ['Sex', 'Ascites',\n",
       "                                                   'Hepatomegaly', 'Spiders']),\n",
       "                                                 ('multi',\n",
       "                                                  Pipeline(steps=[('onehot',\n",
       "                                                                   OneHotEncoder(drop='first'))]),\n",
       "                                                  ['Edema', 'Status',\n",
       "                                                   'Drug'])])),\n",
       "                ('classifier', RandomForestClassifier(random_state=42))])"
      ]
     },
     "execution_count": 28,
     "metadata": {},
     "output_type": "execute_result"
    }
   ],
   "source": [
    "model.fit(X_train, y_train)"
   ]
  },
  {
   "cell_type": "markdown",
   "id": "d2813b57-b73f-48da-afde-ecef31b756e8",
   "metadata": {},
   "source": [
    "# Making Prediction and Accuracy Score"
   ]
  },
  {
   "cell_type": "code",
   "execution_count": 29,
   "id": "5545dab7-a2e8-4d65-b402-bbe9a1e2c821",
   "metadata": {},
   "outputs": [
    {
     "name": "stdout",
     "output_type": "stream",
     "text": [
      "Accuracy: 0.9548\n",
      "Classification Report:\n",
      "               precision    recall  f1-score   support\n",
      "\n",
      "           1       0.97      0.94      0.95      1657\n",
      "           2       0.93      0.96      0.95      1697\n",
      "           3       0.97      0.96      0.97      1646\n",
      "\n",
      "    accuracy                           0.95      5000\n",
      "   macro avg       0.96      0.95      0.95      5000\n",
      "weighted avg       0.96      0.95      0.95      5000\n",
      "\n"
     ]
    }
   ],
   "source": [
    "y_pred = model.predict(X_test)\n",
    "print(\"Accuracy:\", accuracy_score(y_test, y_pred))\n",
    "print(\"Classification Report:\\n\", classification_report(y_test, y_pred))\n"
   ]
  },
  {
   "cell_type": "markdown",
   "id": "c9917a9e-1bce-4d9a-99cf-132d7df4c1f5",
   "metadata": {},
   "source": [
    "# System for new dataset"
   ]
  },
  {
   "cell_type": "code",
   "execution_count": 30,
   "id": "18f9a2f9-2bbb-459e-9e3a-b40f3343bbf4",
   "metadata": {},
   "outputs": [
    {
     "data": {
      "text/plain": [
       "['liver_cirrhosis_stage_detector_pipeline.pkl']"
      ]
     },
     "execution_count": 30,
     "metadata": {},
     "output_type": "execute_result"
    }
   ],
   "source": [
    "import joblib\n",
    "joblib.dump(model, 'liver_cirrhosis_stage_detector_pipeline.pkl')\n"
   ]
  },
  {
   "cell_type": "markdown",
   "id": "7625decb-82b3-4bd2-b94d-d9fce56e50fb",
   "metadata": {},
   "source": [
    "# Using System for making the predictions"
   ]
  },
  {
   "cell_type": "code",
   "execution_count": 32,
   "id": "c3fd0407-f167-4503-a964-9f94ce1f6bd1",
   "metadata": {},
   "outputs": [
    {
     "name": "stdout",
     "output_type": "stream",
     "text": [
      "Predicted Stage of Liver Cirrhosis: 3\n",
      "Prediction Probabilities (by Stage): [0.06 0.16 0.78]\n"
     ]
    }
   ],
   "source": [
    "import joblib\n",
    "import pandas as pd\n",
    "\n",
    "user_input = {\n",
    "    'Bilirubin': 1.4,\n",
    "    'Cholesterol': 250,\n",
    "    'Albumin': 3.5,\n",
    "    'Copper': 120,\n",
    "    'Alk_Phos': 150,\n",
    "    'SGOT': 45,\n",
    "    'Tryglicerides': 120,\n",
    "    'Platelets': 250,\n",
    "    'Prothrombin': 12,\n",
    "    'Age_Years': 52,\n",
    "    'Sex': 'F',\n",
    "    'Ascites': 'N',\n",
    "    'Hepatomegaly': 'Y',\n",
    "    'Spiders': 'N',\n",
    "    'Edema': 'S',\n",
    "    'Status': 'C',\n",
    "    'Drug': 'Placebo'\n",
    "}\n",
    "\n",
    "# Ensure the columns match the training data format\n",
    "user_df = pd.DataFrame([user_input])\n",
    "\n",
    "predicted_stage = model.predict(user_df)\n",
    "predicted_proba = model.predict_proba(user_df)  # Optional: Get probabilities\n",
    "\n",
    "print(f\"Predicted Stage of Liver Cirrhosis: {predicted_stage[0]}\")\n",
    "print(f\"Prediction Probabilities (by Stage): {predicted_proba[0]}\")\n",
    "\n"
   ]
  },
  {
   "cell_type": "code",
   "execution_count": null,
   "id": "65346a8e-fee1-4aad-9620-841cab2f283c",
   "metadata": {},
   "outputs": [],
   "source": []
  }
 ],
 "metadata": {
  "kernelspec": {
   "display_name": "Python 3 (ipykernel)",
   "language": "python",
   "name": "python3"
  },
  "language_info": {
   "codemirror_mode": {
    "name": "ipython",
    "version": 3
   },
   "file_extension": ".py",
   "mimetype": "text/x-python",
   "name": "python",
   "nbconvert_exporter": "python",
   "pygments_lexer": "ipython3",
   "version": "3.11.7"
  }
 },
 "nbformat": 4,
 "nbformat_minor": 5
}
